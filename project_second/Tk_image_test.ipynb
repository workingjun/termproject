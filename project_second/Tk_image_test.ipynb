{
 "cells": [
  {
   "cell_type": "code",
   "execution_count": 1,
   "metadata": {},
   "outputs": [
    {
     "name": "stdout",
     "output_type": "stream",
     "text": [
      "Name: Pillow\n",
      "Version: 9.4.0\n",
      "Summary: Python Imaging Library (Fork)\n",
      "Home-page: https://python-pillow.org\n",
      "Author: Alex Clark (PIL Fork Author)\n",
      "Author-email: aclark@python-pillow.org\n",
      "License: HPND\n",
      "Location: c:\\users\\kimju\\anaconda3\\envs\\tk\\lib\\site-packages\n",
      "Requires: \n",
      "Required-by: \n"
     ]
    }
   ],
   "source": [
    "! pip show pillow"
   ]
  },
  {
   "cell_type": "code",
   "execution_count": 2,
   "metadata": {},
   "outputs": [
    {
     "name": "stdout",
     "output_type": "stream",
     "text": [
      "Requirement already satisfied: pillow in c:\\users\\kimju\\anaconda3\\envs\\tk\\lib\\site-packages (9.4.0)\n",
      "Collecting pillow\n",
      "  Downloading Pillow-9.5.0-cp37-cp37m-win_amd64.whl (2.5 MB)\n",
      "     ---------------------------------------- 2.5/2.5 MB 23.2 MB/s eta 0:00:00\n",
      "Installing collected packages: pillow\n",
      "  Attempting uninstall: pillow\n",
      "    Found existing installation: Pillow 9.4.0\n",
      "    Uninstalling Pillow-9.4.0:\n",
      "      Successfully uninstalled Pillow-9.4.0\n",
      "Successfully installed pillow-9.5.0\n"
     ]
    }
   ],
   "source": [
    "! pip install --upgrade pillow"
   ]
  },
  {
   "cell_type": "code",
   "execution_count": 4,
   "metadata": {},
   "outputs": [
    {
     "name": "stdout",
     "output_type": "stream",
     "text": [
      "<class 'PIL.PngImagePlugin.PngImageFile'>\n",
      "<class 'PIL.ImageTk.PhotoImage'>\n"
     ]
    }
   ],
   "source": [
    "from urllib.request import urlopen\n",
    "from PIL import Image, ImageTk\n",
    "from io import BytesIO\n",
    "import tkinter as tk\n",
    "\n",
    "# 이미지 URL\n",
    "image_url = 'https://via.placeholder.com/150'\n",
    "\n",
    "# URL에서 이미지 데이터를 가져옵니다.\n",
    "with urlopen(image_url) as response:\n",
    "    image_data = response.read()\n",
    "\n",
    "# 이미지를 엽니다.\n",
    "image = Image.open(BytesIO(image_data))\n",
    "print(type(image))  # <class 'PIL.JpegImagePlugin.JpegImageFile'> 등이 출력되어야 합니다.\n",
    "\n",
    "# tkinter 창 생성 및 초기화\n",
    "root = tk.Tk()\n",
    "root.withdraw()  # 루트 윈도우를 숨깁니다.\n",
    "\n",
    "# 이미지 Tkinter용 객체로 변환합니다.\n",
    "photo = ImageTk.PhotoImage(image)\n",
    "print(type(photo))  # <class 'PIL.ImageTk.PhotoImage'> 출력되어야 합니다.\n",
    "\n",
    "# 레이블에 이미지를 표시합니다.\n",
    "label = tk.Label(root, image=photo)\n",
    "label.pack()\n",
    "\n",
    "root.deiconify()  # 루트 윈도우를 다시 보이게 합니다.\n",
    "# 창 실행\n",
    "root.mainloop()"
   ]
  }
 ],
 "metadata": {
  "kernelspec": {
   "display_name": "Tk",
   "language": "python",
   "name": "python3"
  },
  "language_info": {
   "codemirror_mode": {
    "name": "ipython",
    "version": 3
   },
   "file_extension": ".py",
   "mimetype": "text/x-python",
   "name": "python",
   "nbconvert_exporter": "python",
   "pygments_lexer": "ipython3",
   "version": "3.7.16"
  }
 },
 "nbformat": 4,
 "nbformat_minor": 2
}
