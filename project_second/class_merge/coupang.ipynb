{
 "cells": [
  {
   "cell_type": "code",
   "execution_count": 1,
   "metadata": {},
   "outputs": [
    {
     "name": "stdout",
     "output_type": "stream",
     "text": [
      "저장용량\n",
      "메모리용량\n",
      "화면크기\n",
      "중량\n",
      "모델\n",
      "시리즈\n",
      "해상도\n",
      "모니터 패널\n",
      "저장장치 종류\n",
      "CPU\n",
      "운영체제\n",
      "배터리용량\n",
      "SSD용량\n",
      "그래픽(VGA)\n",
      "CPU세대\n",
      "별점\n",
      "가격\n"
     ]
    }
   ],
   "source": [
    "from selenium import webdriver\n",
    "import chromedriver_autoinstaller\n",
    "import subprocess\n",
    "\n",
    "chrome_path='C:\\Program Files\\Google\\Chrome\\Application\\chrome.exe --remote-debugging-port=9222 --user-data-dir=\"C:\\chrometemp\"'\n",
    "chrome_process = subprocess.Popen(rf'{chrome_path}')\n",
    "\n",
    "options = webdriver.ChromeOptions()\n",
    "options.add_experimental_option(\"debuggerAddress\", \"127.0.0.1:9222\")\n",
    "\n",
    "chromedriver_autoinstaller.install()\n",
    "driver = webdriver.Chrome(options=options)\n",
    "driver.implicitly_wait(3)\n",
    "\n",
    "#########################################################################################\\\n",
    "from Class_2 import Setting_Options\n",
    "from Class_1 import blog_search\n",
    "\n",
    "query='대학생 노트북 추천'\n",
    "\n",
    "blog = blog_search(query, 50, driver)\n",
    "blog.saerch_and_scroll()\n",
    "username_list, title_list, content_list = blog.request_find_html()\n",
    "\n",
    "keyword = '노트북'\n",
    "coupang = Setting_Options(driver)\n",
    "coupang.getting_keyword(keyword)\n",
    "coupang.print_Option_names()"
   ]
  },
  {
   "cell_type": "code",
   "execution_count": 2,
   "metadata": {},
   "outputs": [
    {
     "name": "stdout",
     "output_type": "stream",
     "text": [
      "CPU\n",
      "M1\n",
      "아톰\n",
      "셀러론\n",
      "펜티엄\n",
      "펜티엄 골드\n",
      "코어i3\n",
      "코어i5\n",
      "코어i7\n",
      "코어i9\n",
      "코어Ultra5\n",
      "코어Ultra7\n",
      "코어Ultra9\n",
      "라이젠3\n",
      "라이젠5\n",
      "라이젠5 Pro\n",
      "라이젠7\n",
      "라이젠7 Pro\n",
      "라이젠9\n",
      "스냅드래곤\n",
      "\n",
      "저장용량\n",
      "2TB 이상\n",
      "1~2TB\n",
      "512GB~1TB\n",
      "256~512GB\n",
      "256GB 이하\n",
      "\n"
     ]
    }
   ],
   "source": [
    "coupang.print_Option_items(\"CPU\")\n",
    "print()\n",
    "coupang.print_Option_items(\"저장용량\")\n",
    "print()"
   ]
  },
  {
   "cell_type": "code",
   "execution_count": 3,
   "metadata": {},
   "outputs": [],
   "source": [
    "coupang.Click_option(\"CPU\", '코어i5')\n",
    "coupang.Click_option(\"저장용량\", '256GB 이하')"
   ]
  },
  {
   "cell_type": "code",
   "execution_count": 4,
   "metadata": {},
   "outputs": [],
   "source": [
    "from Class_3 import shopping\n",
    "coupang1 = shopping(driver)\n",
    "link_list, imageLink_list, title_list, price_list, point_list = coupang1.find_html()"
   ]
  },
  {
   "cell_type": "code",
   "execution_count": 5,
   "metadata": {},
   "outputs": [
    {
     "data": {
      "text/plain": [
       "['1. [ASUS] GU605MY-QR102W WIN11 대학생 업무용 영상편집 노트북, WIN11 Home, 64GB, 2TB',\n",
       " '2. 삼성 LG HP 노트북 i5 가정 업무 게임 포토샵 주식용 Win10 무상1년 사은품, 실버, 삼성 NT901X3H, 코어i5, 240GB, 8GB',\n",
       " '3. LG그램 그램15 15Z960 (i5-6200U/i7-6500U/Win10 Pro) 15인치 노트북 [디에스컴], 화이트, 15Z960/15Z970, 코어i5, 256GB, 8GB, WIN10 Pro',\n",
       " '4. LG 울트라PC 15U560 6세대 코어i5 8G SSD128GB Win10 화이트, WIN10 Home, 8GB, 128GB',\n",
       " '5. 베이직스 2023 베이직북S 10.1 셀러론, White, 128GB, 8GB, WIN11 Pro, BB1022FW',\n",
       " '6. HP 2024 자비스 AI 노트북 15 코어Ultra5 인텔 14세대, Natural Silver, 512GB, 16GB, WIN11 Home, 15-fd1029TU',\n",
       " '7. 삼성전자 삼성노트북 NT200B5C/i5-3210/4G/SSD128G/DVD멀티/15.6/1600*900/윈도우10/2.3kg/무상보증1년, NT200B5C, WIN10 Pro, 4GB, 128GB, 코어i5, 블랙',\n",
       " '8. 레노버 아이디어패드 U330 터치스크린 A급 중고노트북 (i5/SSD128GB/Win10/13인치), U330 Touch, WIN10, 4GB, 128GB, 실버',\n",
       " '9. 삼성전자 갤럭시북4 14세대 코어7 WIN11 구매사은품 블루투스무소음마우스, A71AG(그레이), NT750XGQ-A71A, 512GB, 16GB, WIN11 Home',\n",
       " '10. 삼성노트북 NT301E5C-A i5 DDR3 8G SSD 128G 윈10, WIN10, 4GB, 128GB, 블랙',\n",
       " '11. 삼성전자 갤럭시북4 프로 14인치 인텔 코어 울트라7 최신형 사무용 가벼운 터치 노트북, WIN11 Home, 16GB, 512GB, 플래티넘 실버',\n",
       " '12. 마이크로소프트 2022 서피스 랩탑5 13.5 코어i5 인텔 12세대, 블랙, 256GB, 16GB, WIN11 Home, XFK-00003',\n",
       " '13. LG 노트북 그램 14Z980 가벼운 그램노트북 i5 DDR4 초고속 M.2 SSD 장착 윈도우10 프로, WIN10, 16GB, 256GB, 코어i5, 화이트',\n",
       " '14. 에이수스 2023 비보북 15 코어i5 인텔 13세대, 콰이어트 블루, 256GB, 8GB, Free DOS, X1502VA-BQ079',\n",
       " '15. LG 8세대 GRAM 14Z980 코어i5 16GB SSD256GB Win10, WIN10 Pro, 256GB, 화이트',\n",
       " '16. A급중고 HP 840-G4 i5-7300U/8G/SSD256G/HD620/14/WIN10 명품노트북 인강용, E7470, WIN10 Pro, 8GB, 256GB, 코어i5, 블랙',\n",
       " '17. 레노버 2023 V15 G4 코어i5 인텔 13세대, Iron Gray, 256GB, 16GB, Free DOS, 83A10001KR',\n",
       " '18. LG 15n54 i5 4세대 노트북 사무용 업무용 가성비좋은 중고노트북, 15n540, WIN10, 8GB, 240GB, 코어i5, 그레이',\n",
       " '19. LG전자 2023 울트라PC 15 코어i5 인텔 13세대, 화이트, 256GB, 8GB, WIN11 Home, 15U50R-GR56K',\n",
       " '20. 삼성노트북 NT301E5C-A i5 DDR3 8G SSD 128G 윈10, WIN10, 8GB, 256GB, 블랙',\n",
       " '21. 레노버 씽크패드 Z16 Gen1 21D4000AKR 미사용 정품 리퍼 노트북',\n",
       " '22. [미사용 정품 리퍼]DELL 델 인스피론 16 5620 UB05KR MX570 노트북',\n",
       " '23. 중고노트북 삼성 LG HP DELL 레노버 한성 ASUS 정품윈도우 SSD 대화면 노트북, 14/15인치, WIN10 Home, 4GB, 128GB, 코어i5, 블랙',\n",
       " '24. 삼성 노트북 15.6인치 NT371B5L 사무용 가정용 인강용 게이밍 롤 포토샵 i5 ssd탑재 윈10 pro, 코어i5, 256GB, 8GB, WIN10 Pro',\n",
       " '25. 에이수스 2022 Zenbook 14X OLED 코어i5 인텔 12세대 지포스 MX550, 파인그레이, 512GB, 16GB, WIN11 Home, UX5400ZB-L7027W',\n",
       " '26. 레노버 2021 ThinkPad X1 Yoga Gen 6 14 코어i7 인텔 11세대, 스톰 그레이, 256GB, 16GB, WIN10 Pro, 20XYS03G00',\n",
       " '27. 레노버 2022 씽크패드 X1 카본 Gen 10 14 코어i7 인텔 12세대, 블랙, 512GB, 32GB, WIN11 Pro, 21CBS00200',\n",
       " '28. 레노버 2021 ThinkPad L13 GEN2 13.3 코어i7 인텔 11세대, Black, 256GB, 8GB, WIN10 Pro, 20VH002PKR',\n",
       " '29. 기가바이트 2023 어로스 17X ZFH 코어i9 인텔 13세대 지포스 RTX 4090, 2048GB, 32GB, WIN11 Pro, AORUS 17X ZFH',\n",
       " '30. 레노버 2023 씽크패드 X1 카본 Gen11 14 코어i7 인텔 13세대, 블랙, 512GB, 16GB, WIN11 Pro, 21HMS00500',\n",
       " '31. 델 2023 인스피론 16 2in1 7630 코어i7 인텔 13세대, Platinum Silver, 512GB, 16GB, WIN11 Pro, DN7630A-WP01KR',\n",
       " '32. 레노버 2022 씽크패드 X1 카본 Gen 10 14 코어i7 인텔 12세대, 블랙, 512GB, 16GB, WIN11 Pro, 21CBS00800',\n",
       " '33. 디지티 프리미엄 노트북 거치대, 메탈블랙',\n",
       " '34. 한성컴퓨터 2022 TFG 노트북 17.3 코어i7 인텔 12세대 지포스 RTX 3070 Ti, Black, 500GB, 16GB, Free DOS, TFG7277XG',\n",
       " '35. 파인피아 종이질감 휴대폰 액정보호필름 LG 17U790 17UD790, 1개',\n",
       " '36. 카라스 노트북 플러스 블루라이트 차단 필름 NT550XCJ-K34WA용, 1개',\n",
       " '37. 델 2023 G16 7630 코어i9 인텔 13세대 지포스 RTX 4070, Metallic Nightshade, 1TB, 16GB, WIN11 Home, DG7630-W004KR',\n",
       " '38. 코쿼드 LG그램 노트북 밴드 가죽 파우치, 라이트브라운',\n",
       " '39. 레노버 2022 씽크패드 X1 요가 13.5 코어i7 인텔 11세대, 티타늄, 512GB, 16GB, WIN10 Pro, 20QA00ACKR',\n",
       " '40. 디지티 프리미엄 노트북 거치대, 실버그레이',\n",
       " '41. 노트북 파우치 U41, F',\n",
       " '42. HP 2022 오멘 16 코어i7 인텔 12세대 지포스 RTX 3060, Shaow Black, 512GB, 16GB, WIN11 Home, 16-b1030TX',\n",
       " '43. 실버만 노트북파우치 15X, 데님TB',\n",
       " '44. 델 2022 Alienware X14 코어i7 인텔 12세대 지포스 RTX 3050 Ti, Lunar Light, 1TB, 16GB, WIN11 Pro, DAWX14-WP02KR',\n",
       " '45. 레노버 2023 아이디어패드 슬림 3 15IAH8 코어i5 인텔 12세대, Arctic Grey, 256GB, 16GB, WIN11 Home, 83ER0062KR',\n",
       " '46. 삼성노트북 NT301E5C-A i5 DDR3 8G SSD 128G 윈10, WIN10, 4GB, 256GB, 블랙',\n",
       " '47. LG전자 PC그램 15Z960 i5 8G SSD256 Win10 가벼운 노트북, WIN10 Home, 8GB, 256GB, 코어i5, 스노우 화이트',\n",
       " '48. 레노버 2023 아이디어패드 슬림 3 15IRH8 코어i5 인텔 13세대, Arctic Grey, 256GB, 16GB, Free DOS, 83EM000PKR',\n",
       " '49. 레노버 2023 씽크북 15 G5 IRL 15 코어i5 인텔 13세대, 미네랄 그레이, 256GB, 16GB, Free DOS, 21JD003YKR',\n",
       " '50. 삼성 15인치 FHD 사무용 인강용 인텔 8세대 SSD장착 노트북 NT551EBE, WIN10 Pro, 16GB, 256GB, 코어i5, 블랙',\n",
       " '51. 레노버 2023 V15 G4 코어i5 인텔 13세대, Iron Gray, 256GB, 8GB, Free DOS, 83A10001KR',\n",
       " '52. 삼성 노트북 15.6인치 NT371B5L 사무용 가정용 인강용 게이밍 롤 포토샵 i5 ssd탑재 윈10 pro, 코어i5, 128GB, 8GB, WIN10 Pro',\n",
       " '53. 삼성노트북 NT371B5J 사무용노트북, WIN10 Pro, 16GB, 240GB, 코어i5, 블랙',\n",
       " '54. 삼성전자 갤럭시북4 15.6 코어I5 13세대 한컴오피스팩 및 무선마우스, R-A51AG, Linux, 16GB, 256GB, 그레이',\n",
       " '55. 레노버 2023 씽크북 15 G5 IRL 15 코어i5 인텔 13세대, 미네랄 그레이, 256GB, 8GB, Free DOS, 21JD0040KR',\n",
       " '56. 레노버 아이디어패드 슬림 3 14IAH8 코어i5 인텔 12세대, ARCTIC GREY, 256GB, 16GB, WIN11 Home, 83EQ002QKR']"
      ]
     },
     "execution_count": 5,
     "metadata": {},
     "output_type": "execute_result"
    }
   ],
   "source": [
    "title_list"
   ]
  }
 ],
 "metadata": {
  "kernelspec": {
   "display_name": "cupang",
   "language": "python",
   "name": "python3"
  },
  "language_info": {
   "codemirror_mode": {
    "name": "ipython",
    "version": 3
   },
   "file_extension": ".py",
   "mimetype": "text/x-python",
   "name": "python",
   "nbconvert_exporter": "python",
   "pygments_lexer": "ipython3",
   "version": "3.7.16"
  }
 },
 "nbformat": 4,
 "nbformat_minor": 2
}
