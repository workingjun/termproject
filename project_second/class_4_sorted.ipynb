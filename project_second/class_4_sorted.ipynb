{
 "cells": [
  {
   "cell_type": "markdown",
   "metadata": {},
   "source": [
    "#### 정렬하기 "
   ]
  },
  {
   "cell_type": "code",
   "execution_count": 1,
   "metadata": {},
   "outputs": [
    {
     "data": {
      "text/plain": [
       "[['이미지 링크1', '노트북1', '1,500,000원', '2100', '구매링크1'],\n",
       " ['이미지 링크2', '노트북2', '2,000,000원', '3000', '구매링크2'],\n",
       " ['이미지 링크3', '노트북3', '1,200,000원', '10000', '구매링크3']]"
      ]
     },
     "execution_count": 1,
     "metadata": {},
     "output_type": "execute_result"
    }
   ],
   "source": [
    "myList=[]\n",
    "\n",
    "for i in range(3):\n",
    "    price = [\"1,500,000원\", \"2,000,000원\", \"1,200,000원\"]\n",
    "    point = [\"2100\", \"3000\", \"10000\"]\n",
    "    produnct = [f\"이미지 링크{i+1}\", f\"노트북{i+1}\", price[i], point[i], f\"구매링크{i+1}\"]\n",
    "\n",
    "    myList.append(produnct)\n",
    "\n",
    "myList"
   ]
  },
  {
   "cell_type": "code",
   "execution_count": 2,
   "metadata": {},
   "outputs": [
    {
     "data": {
      "text/plain": [
       "[['이미지 링크3', '노트북3', '1,200,000원', '10000', '구매링크3'],\n",
       " ['이미지 링크2', '노트북2', '2,000,000원', '3000', '구매링크2'],\n",
       " ['이미지 링크1', '노트북1', '1,500,000원', '2100', '구매링크1']]"
      ]
     },
     "execution_count": 2,
     "metadata": {},
     "output_type": "execute_result"
    }
   ],
   "source": [
    "myList_point = sorted(myList, key=lambda x: int(x[3]), reverse = True)\n",
    "myList_point"
   ]
  },
  {
   "cell_type": "code",
   "execution_count": 3,
   "metadata": {},
   "outputs": [
    {
     "data": {
      "text/plain": [
       "[['이미지 링크3', '노트북3', '1,200,000원', '10000', '구매링크3'],\n",
       " ['이미지 링크1', '노트북1', '1,500,000원', '2100', '구매링크1'],\n",
       " ['이미지 링크2', '노트북2', '2,000,000원', '3000', '구매링크2']]"
      ]
     },
     "execution_count": 3,
     "metadata": {},
     "output_type": "execute_result"
    }
   ],
   "source": [
    "myList_price = sorted(myList, key=lambda x: int(x[2].replace('원', '').replace(',', '')))\n",
    "myList_price"
   ]
  }
 ],
 "metadata": {
  "kernelspec": {
   "display_name": "cupang",
   "language": "python",
   "name": "python3"
  },
  "language_info": {
   "codemirror_mode": {
    "name": "ipython",
    "version": 3
   },
   "file_extension": ".py",
   "mimetype": "text/x-python",
   "name": "python",
   "nbconvert_exporter": "python",
   "pygments_lexer": "ipython3",
   "version": "3.7.16"
  }
 },
 "nbformat": 4,
 "nbformat_minor": 2
}
